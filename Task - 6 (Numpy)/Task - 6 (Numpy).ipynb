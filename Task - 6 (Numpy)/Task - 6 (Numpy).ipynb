{
 "cells": [
  {
   "cell_type": "code",
   "execution_count": null,
   "metadata": {},
   "outputs": [],
   "source": [
    "#QUESTION 1\n",
    "\n",
    "\n",
    "import numpy\n",
    "\n",
    "def arrays(arr):\n",
    "    return(numpy.array(arr[::-1], float))\n",
    "\n",
    "arr = input().strip().split(' ')\n",
    "result = arrays(arr)\n",
    "print(result)"
   ]
  },
  {
   "cell_type": "code",
   "execution_count": null,
   "metadata": {},
   "outputs": [],
   "source": [
    "#QUESTION 2\n",
    "\n",
    "\n",
    "import numpy\n",
    "\n",
    "\n",
    "\n",
    "a=numpy.array(list(map(int,input().split())))\n",
    "print(numpy.reshape(a,(3,3)))"
   ]
  },
  {
   "cell_type": "code",
   "execution_count": null,
   "metadata": {},
   "outputs": [],
   "source": [
    "#QUESTION 3\n",
    "\n",
    "\n",
    "import numpy\n",
    "\n",
    "n,m=map(int,input().split())\n",
    "\n",
    "lista=[list(map(int,input().split())) for i in range(n)]\n",
    "a=numpy.array(lista)\n",
    "\n",
    "print(numpy.transpose(a))\n",
    "print(a.flatten())\n"
   ]
  },
  {
   "cell_type": "code",
   "execution_count": null,
   "metadata": {},
   "outputs": [],
   "source": [
    "#QUESTION 4\n",
    "\n",
    "\n",
    "import numpy\n",
    "\n",
    "n,m,p=map(int,input().split())\n",
    "\n",
    "lista1=[list(map(int,input().split())) for i in range(n)]\n",
    "lista2=[list(map(int,input().split())) for i in range(m)]\n",
    "a1=numpy.array(lista1)\n",
    "a2=numpy.array(lista2)\n",
    "\n",
    "print(numpy.concatenate((a1,a2),axis=0))"
   ]
  },
  {
   "cell_type": "code",
   "execution_count": null,
   "metadata": {},
   "outputs": [],
   "source": [
    "#QUESTION 5\n",
    "\n",
    "\n",
    "import numpy\n",
    "\n",
    "size = tuple(map(int,input().strip().split()))\n",
    "print( numpy.zeros(size, int) )\n",
    "print( numpy.ones(size, int) )\n"
   ]
  },
  {
   "cell_type": "code",
   "execution_count": null,
   "metadata": {},
   "outputs": [],
   "source": [
    "#QUESTION 6\n",
    "\n",
    "import numpy\n",
    "print(str(numpy.eye(*map(int,input().split()))).replace('1',' 1').replace('0',' 0'))"
   ]
  },
  {
   "cell_type": "code",
   "execution_count": null,
   "metadata": {},
   "outputs": [],
   "source": [
    "#QUESTION 7\n",
    "\n",
    "import numpy as np\n",
    "\n",
    "n,m=map(int,input().split())\n",
    "a=np.empty(shape=(n,m),dtype=int)\n",
    "b=np.empty(shape=(n,m),dtype=int)\n",
    "for i in range(n):\n",
    "    a[i]=input().split()\n",
    "for i in range(n):\n",
    "    b[i]=input().split()\n",
    "print(np.add(a,b))\n",
    "print(np.subtract(a,b))\n",
    "print(np.multiply(a,b))\n",
    "print(a//b)\n",
    "print(np.mod(a,b))\n",
    "print(np.power(a,b))"
   ]
  },
  {
   "cell_type": "code",
   "execution_count": null,
   "metadata": {},
   "outputs": [],
   "source": [
    "#QUESTION 8\n",
    "\n",
    "\n",
    "import numpy\n",
    "\n",
    "numpy.set_printoptions(sign=' ')\n",
    "\n",
    "a = numpy.array(input().split(),float)\n",
    "\n",
    "print(numpy.floor(a))\n",
    "print(numpy.ceil(a))\n",
    "print(numpy.rint(a))"
   ]
  },
  {
   "cell_type": "code",
   "execution_count": null,
   "metadata": {},
   "outputs": [],
   "source": [
    "#QUESTION 9\n",
    "\n",
    "import numpy\n",
    "\n",
    "n,m=map(int,input().split())\n",
    "\n",
    "array=[list(map(int,input().split())) for i in range(n)]\n",
    "print(numpy.prod(numpy.sum(array,axis=0),None))"
   ]
  },
  {
   "cell_type": "code",
   "execution_count": null,
   "metadata": {},
   "outputs": [],
   "source": [
    "#QUESTION 10\n",
    "\n",
    "import numpy\n",
    "\n",
    "n,m=map(int,input().split())\n",
    "\n",
    "lista=[list(map(int,input().split())) for i in range(n)]\n",
    "\n",
    "ar=numpy.array(lista)\n",
    "\n",
    "print(max(numpy.min(ar,axis=1)))"
   ]
  },
  {
   "cell_type": "code",
   "execution_count": null,
   "metadata": {},
   "outputs": [],
   "source": [
    "#QUESTION 11\n",
    "\n",
    "\n",
    "import numpy\n",
    "\n",
    "nm = input().split()\n",
    "n = int(nm[0])\n",
    "m = int(nm[1])\n",
    "arr = []\n",
    "for i in range(n):\n",
    "    m = list(map(int, input().split()))\n",
    "    arr.append(m)\n",
    "arr = numpy.array(arr)\n",
    "\n",
    "mean = numpy.mean(arr, axis = 1)\n",
    "var = numpy.var(arr, axis = 0)\n",
    "std = numpy.std(arr)\n",
    "\n",
    "print(mean)\n",
    "print(var)\n",
    "\n",
    "rnd = numpy.around(std, 11)\n",
    "print(rnd)\n"
   ]
  },
  {
   "cell_type": "code",
   "execution_count": null,
   "metadata": {},
   "outputs": [],
   "source": [
    "#QUESTION 12\n",
    "\n",
    "import numpy\n",
    "n = int(input())\n",
    "a = numpy.array([input().split() for _ in range(n)],int)\n",
    "b = numpy.array([input().split() for _ in range(n)],int)\n",
    "print(numpy.dot(a,b))"
   ]
  },
  {
   "cell_type": "code",
   "execution_count": null,
   "metadata": {},
   "outputs": [],
   "source": [
    "#QUESTION 13\n",
    "\n",
    "import numpy\n",
    "\n",
    "A=list(map(int,input().split()))\n",
    "B=list(map(int,input().split()))\n",
    "\n",
    "print(numpy.inner(A,B))\n",
    "print(numpy.outer(A,B))"
   ]
  },
  {
   "cell_type": "code",
   "execution_count": null,
   "metadata": {},
   "outputs": [],
   "source": [
    "#QUESTION 14\n",
    "\n",
    "import numpy\n",
    "\n",
    "coefs=list(map(float,input().split()))\n",
    "x=float(input())\n",
    "\n",
    "print(numpy.polyval(coefs,x))"
   ]
  },
  {
   "cell_type": "code",
   "execution_count": null,
   "metadata": {},
   "outputs": [],
   "source": [
    "#QUESTION 15\n",
    "\n",
    "\n",
    "import numpy as np\n",
    "\n",
    "np.set_printoptions(legacy='1.13')\n",
    "\n",
    "n = int(input())\n",
    "array = np.array([input().split() for _ in range(n)], float)\n",
    "print(np.linalg.det(array))"
   ]
  }
 ],
 "metadata": {
  "kernelspec": {
   "display_name": "Python 3",
   "language": "python",
   "name": "python3"
  },
  "language_info": {
   "codemirror_mode": {
    "name": "ipython",
    "version": 3
   },
   "file_extension": ".py",
   "mimetype": "text/x-python",
   "name": "python",
   "nbconvert_exporter": "python",
   "pygments_lexer": "ipython3",
   "version": "3.8.5"
  }
 },
 "nbformat": 4,
 "nbformat_minor": 4
}

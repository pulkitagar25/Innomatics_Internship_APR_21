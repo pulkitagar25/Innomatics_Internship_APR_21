{
 "cells": [
  {
   "cell_type": "code",
   "execution_count": null,
   "metadata": {},
   "outputs": [],
   "source": [
    "# Question 1\n",
    "\n",
    "\n",
    "X = int(input())\n",
    "Y = int(input())\n",
    "Z = int(input())\n",
    "N = int(input())\n",
    "\n",
    "X = X + 1\n",
    "Y = Y + 1\n",
    "Z = Z + 1\n",
    "\n",
    "comp_list = [[x, y, z] for x in range(X) for y in range(Y) for z in range(Z) if x + y + z != N]\n",
    "print(comp_list)"
   ]
  },
  {
   "cell_type": "code",
   "execution_count": null,
   "metadata": {},
   "outputs": [],
   "source": [
    "# Question 2\n",
    "\n",
    "\n",
    "\n",
    "x = int(input())\n",
    "ar_r = map(int, input().split())\n",
    "ar_r = list(set(list(ar_r)))\n",
    "ar = len(ar_r)\n",
    "ar_r = sorted(ar_r)\n",
    "print(ar_r[ar-2])"
   ]
  },
  {
   "cell_type": "code",
   "execution_count": null,
   "metadata": {},
   "outputs": [],
   "source": [
    "# Question 3\n",
    "\n",
    "\n",
    "N = int(input())\n",
    "    \n",
    "l2 = []\n",
    "    \n",
    "if  2 <= N <= 5:\n",
    "    for i in range(N):\n",
    "        l1 = []\n",
    "        name = input()\n",
    "        l1.append(name)\n",
    "        score = float(input())\n",
    "        l1.append(score)\n",
    "            \n",
    "        l2.append(l1)\n",
    "            \n",
    "        scores = set()\n",
    "    for i in l2:\n",
    "         scores.add(i[1])\n",
    "        \n",
    "names = []\n",
    "for i in l2:\n",
    "    if i[1] == sorted(list(scores))[1]:\n",
    "        names.append(i[0])\n",
    "for i in sorted(names):\n",
    "    print(i)"
   ]
  },
  {
   "cell_type": "code",
   "execution_count": null,
   "metadata": {},
   "outputs": [],
   "source": [
    "# Question 4\n",
    "\n",
    "\n",
    "if __name__ == '__main__':\n",
    "    n = int(input())\n",
    "    student_marks = {}\n",
    "    for _ in range(n):\n",
    "        line = input().split()\n",
    "        name, scores = line[0], line[1:]\n",
    "        scores = map(float, scores)\n",
    "        student_marks[name] = scores\n",
    "    query_name = input()\n",
    "    marks=0\n",
    "    for i in student_marks[query_name]:\n",
    "        marks=marks+i\n",
    "    avg=marks/3\n",
    "    print(\"%.2f\"%avg)"
   ]
  },
  {
   "cell_type": "code",
   "execution_count": null,
   "metadata": {},
   "outputs": [],
   "source": [
    "# Question 5\n",
    "\n",
    "\n",
    "N = int(input())\n",
    "l=[]\n",
    "\n",
    "for i in range(N):\n",
    "    s=input().split(\"\\n\")\n",
    "    for j in s:\n",
    "        m=j.split()\n",
    "        if m[0]==\"insert\":\n",
    "            l.insert(int(m[1]),int(m[2]))\n",
    "        elif m[0]==\"print\":\n",
    "            print(l)\n",
    "        elif m[0]==\"remove\":\n",
    "            l.remove(int(m[1]))\n",
    "        elif m[0]==\"append\":\n",
    "            l.append(int(m[1]))\n",
    "        elif m[0]==\"sort\":\n",
    "            l.sort()\n",
    "        elif m[0]==\"pop\":\n",
    "            l.pop()\n",
    "        elif m[0]==\"reverse\":\n",
    "            l.reverse()   "
   ]
  },
  {
   "cell_type": "code",
   "execution_count": null,
   "metadata": {},
   "outputs": [],
   "source": [
    "# Question 6\n",
    "\n",
    "n = int(input())\n",
    "b=input()\n",
    "a = tuple(map(int, b.split(' ')))\n",
    "print(hash(a))"
   ]
  },
  {
   "cell_type": "code",
   "execution_count": null,
   "metadata": {},
   "outputs": [],
   "source": [
    "# Question 7\n",
    "\n",
    "def average(array):\n",
    "    sum_array = sum(set(array))\n",
    "    len_array = len(set(array))\n",
    "    result = sum_array/len_array\n",
    "    return result;\n",
    "\n",
    "if __name__ == '__main__':\n",
    "    n = int(input())\n",
    "    arr = list(map(int, input().split()))\n",
    "    result = average(arr)\n",
    "    print(result)"
   ]
  },
  {
   "cell_type": "code",
   "execution_count": null,
   "metadata": {},
   "outputs": [],
   "source": [
    "# Question 8\n",
    "\n",
    "\n",
    "a,b = list(map(int,input().split()))\n",
    "happiness = 0\n",
    "arr = list()\n",
    "X,Y = set(),set()\n",
    "\n",
    "arr = list(map(int,input().strip().split()))\n",
    "X = set(map(int,input().strip().split()))\n",
    "Y = set(map(int,input().strip().split()))\n",
    "\n",
    "for i in arr:\n",
    "    if i in X:\n",
    "        happiness = happiness + 1\n",
    "    elif i in Y:\n",
    "        happiness = happiness - 1\n",
    "print(happiness)"
   ]
  },
  {
   "cell_type": "code",
   "execution_count": null,
   "metadata": {},
   "outputs": [],
   "source": [
    "# Question 9\n",
    "\n",
    "\n",
    "M = int(input())\n",
    "mset = set(map(int, input().split()))\n",
    "\n",
    "N = int(input())\n",
    "nset = set(map(int, input().split()))\n",
    "\n",
    "mdef = mset.difference(nset)\n",
    "ndef = nset.difference(mset)\n",
    "\n",
    "result = mdef.union(ndef)\n",
    "\n",
    "for i in sorted(list(result)):\n",
    "    print(i)"
   ]
  },
  {
   "cell_type": "code",
   "execution_count": null,
   "metadata": {},
   "outputs": [],
   "source": [
    "# Question 10\n",
    "\n",
    "N = int(input().strip())\n",
    "stamps = set()\n",
    "    \n",
    "for _ in range(N):\n",
    "    stamp = input().strip()\n",
    "    stamps.add(stamp)\n",
    "        \n",
    "print(len(stamps))"
   ]
  },
  {
   "cell_type": "code",
   "execution_count": null,
   "metadata": {},
   "outputs": [],
   "source": [
    "# Question 11\n",
    "\n",
    "if __name__ == \"__main__\":\n",
    "    n = int(input())\n",
    "    s = set(map(int, input().split())) \n",
    "    num_temp = int(input())\n",
    "    \n",
    "    for _ in range(num_temp):\n",
    "        temp = list(input().strip().split(' '))\n",
    "        if temp[0] == 'pop':\n",
    "            s.pop()\n",
    "        elif temp[0] == 'remove':\n",
    "            s.remove(int(temp[1]))\n",
    "        elif temp[0] == 'discard':\n",
    "            s.discard(int(temp[1]))\n",
    "    \n",
    "    print(sum(s))"
   ]
  },
  {
   "cell_type": "code",
   "execution_count": null,
   "metadata": {},
   "outputs": [],
   "source": [
    "# Question 12\n",
    "\n",
    "num1 = int(input())\n",
    "setA = set(map(int, input().split()))\n",
    "num2 = int(input())\n",
    "setB = set(map(int, input().split()))\n",
    "\n",
    "print(len(setA.union(setB)))"
   ]
  },
  {
   "cell_type": "code",
   "execution_count": null,
   "metadata": {},
   "outputs": [],
   "source": [
    "# Question 13\n",
    "\n",
    "\n",
    "num1 = int(input())\n",
    "setA = set(map(int, input().split()))\n",
    "num2 = int(input())\n",
    "setB = set(map(int, input().split()))\n",
    "\n",
    "print(len(setA.intersection(setB)))"
   ]
  },
  {
   "cell_type": "code",
   "execution_count": null,
   "metadata": {},
   "outputs": [],
   "source": [
    "# Question 14\n",
    "\n",
    "\n",
    "n1 = int(input())\n",
    "set_1 = set(map(int,input().split()))\n",
    "n2 = int(input())\n",
    "set_2 = set(map(int,input().split()))\n",
    "print(len(set_1-set_2))"
   ]
  },
  {
   "cell_type": "code",
   "execution_count": null,
   "metadata": {},
   "outputs": [],
   "source": [
    "# Question 15\n",
    "\n",
    "\n",
    "\n",
    "N1 = int(input())\n",
    "storage1 = set(input().split())\n",
    "\n",
    "N2 = int(input())\n",
    "storage2 = set(input().split())\n",
    "\n",
    "storage3 = storage1.symmetric_difference(storage2)\n",
    "\n",
    "print(len(storage3))"
   ]
  },
  {
   "cell_type": "code",
   "execution_count": null,
   "metadata": {},
   "outputs": [],
   "source": [
    "# Question 16\n",
    "\n",
    "\n",
    "n = int(input())\n",
    "a = set(map(int,input().split()))\n",
    "N = int(input())\n",
    "for i in range(N):\n",
    "    cmd = input().split()\n",
    "    opt = cmd[0]\n",
    "    s = set(map(int,input().split()))\n",
    "    if (opt == 'update'):\n",
    "        a |= s\n",
    "    elif (opt == 'intersection_update'):\n",
    "        a &= s\n",
    "    elif (opt == 'difference_update'):\n",
    "        a -= s\n",
    "    elif (opt == 'symmetric_difference_update'):\n",
    "        a ^= s\n",
    "print(sum(a))"
   ]
  },
  {
   "cell_type": "code",
   "execution_count": null,
   "metadata": {},
   "outputs": [],
   "source": [
    "# Question 17\n",
    "\n",
    "k = int(input())\n",
    "rooms = (int(x) for x in input().split(' '))\n",
    "seen = {}\n",
    "\n",
    "for i in rooms:\n",
    "    if not i in seen:\n",
    "        seen[i] = 1\n",
    "    else:\n",
    "        seen[i] += 1\n",
    "\n",
    "for key, val in seen.items():\n",
    "    if val != k:\n",
    "        print(key)"
   ]
  },
  {
   "cell_type": "code",
   "execution_count": null,
   "metadata": {},
   "outputs": [],
   "source": [
    "# Question 18\n",
    "\n",
    "for i in range(int(input())):\n",
    "    a = int(input()); A = set(input().split()) \n",
    "    b = int(input()); B = set(input().split())\n",
    "    print(A.issubset(B))"
   ]
  },
  {
   "cell_type": "code",
   "execution_count": null,
   "metadata": {},
   "outputs": [],
   "source": [
    "# Question 19\n",
    "\n",
    "\n",
    "x = set(input().split())\n",
    "outcome = True\n",
    "for i in range(int(input())):\n",
    "    y = set(input().split())\n",
    "    if (x > y) == False:\n",
    "        outcome = False\n",
    "        break\n",
    "print(outcome)"
   ]
  }
 ],
 "metadata": {
  "kernelspec": {
   "display_name": "Python 3",
   "language": "python",
   "name": "python3"
  },
  "language_info": {
   "codemirror_mode": {
    "name": "ipython",
    "version": 3
   },
   "file_extension": ".py",
   "mimetype": "text/x-python",
   "name": "python",
   "nbconvert_exporter": "python",
   "pygments_lexer": "ipython3",
   "version": "3.8.5"
  }
 },
 "nbformat": 4,
 "nbformat_minor": 4
}

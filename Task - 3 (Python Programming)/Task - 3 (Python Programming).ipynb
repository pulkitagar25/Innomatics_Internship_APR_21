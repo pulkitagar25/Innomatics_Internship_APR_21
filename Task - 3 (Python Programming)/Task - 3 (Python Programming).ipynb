{
 "cells": [
  {
   "cell_type": "code",
   "execution_count": null,
   "metadata": {},
   "outputs": [],
   "source": [
    "# Question 1\n",
    "\n",
    "\n",
    "\n",
    "\n",
    "import cmath;\n",
    "\n",
    "num = complex(input())\n",
    "z = complex(num)\n",
    "\n",
    "print(cmath.polar(z)[0])\n",
    "print(cmath.polar(z)[1])"
   ]
  },
  {
   "cell_type": "code",
   "execution_count": null,
   "metadata": {},
   "outputs": [],
   "source": [
    "# Question 2\n",
    "\n",
    "\n",
    "import math\n",
    "ab,bc = int(input()),int(input())\n",
    "print(str(round((math.degrees(math.atan2(ab,bc)))))+ '\\u00B0',sep=''  )"
   ]
  },
  {
   "cell_type": "code",
   "execution_count": null,
   "metadata": {},
   "outputs": [],
   "source": [
    "# Question 3\n",
    "\n",
    "for i in range(1,int(input())+1):\n",
    "    print((10**i//9)**2 )"
   ]
  },
  {
   "cell_type": "code",
   "execution_count": null,
   "metadata": {},
   "outputs": [],
   "source": [
    "# Question 4\n",
    "\n",
    "a = int(input())\n",
    "b = int(input())\n",
    "print (a//b)\n",
    "print (a%b)\n",
    "print (divmod(a,b))"
   ]
  },
  {
   "cell_type": "code",
   "execution_count": null,
   "metadata": {},
   "outputs": [],
   "source": [
    "# Question 5\n",
    "\n",
    "a=int(input())\n",
    "b=int(input())\n",
    "m=int(input())\n",
    "\n",
    "print(pow(a,b))\n",
    "print(pow(a,b,m))"
   ]
  },
  {
   "cell_type": "code",
   "execution_count": null,
   "metadata": {},
   "outputs": [],
   "source": [
    "# Question 6\n",
    "\n",
    "\n",
    "a = int(input())\n",
    "b = int(input())\n",
    "c = int(input())\n",
    "d = int(input())\n",
    "\n",
    "print(a**b+c**d)"
   ]
  },
  {
   "cell_type": "code",
   "execution_count": null,
   "metadata": {},
   "outputs": [],
   "source": [
    "# Question 7\n",
    "\n",
    "for i in range(1,int(input())):\n",
    "    print(((10**i)//9)*i)"
   ]
  }
 ],
 "metadata": {
  "kernelspec": {
   "display_name": "Python 3",
   "language": "python",
   "name": "python3"
  },
  "language_info": {
   "codemirror_mode": {
    "name": "ipython",
    "version": 3
   },
   "file_extension": ".py",
   "mimetype": "text/x-python",
   "name": "python",
   "nbconvert_exporter": "python",
   "pygments_lexer": "ipython3",
   "version": "3.8.5"
  }
 },
 "nbformat": 4,
 "nbformat_minor": 4
}
